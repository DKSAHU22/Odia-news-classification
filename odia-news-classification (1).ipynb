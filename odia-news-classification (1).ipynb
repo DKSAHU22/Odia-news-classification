{
 "cells": [
  {
   "cell_type": "code",
   "execution_count": 1,
   "id": "097e69e1",
   "metadata": {},
   "outputs": [],
   "source": [
    "import pandas as pd\n",
    "import numpy as np\n",
    "import re\n",
    "import seaborn as sns\n",
    "import matplotlib.pyplot as plt\n",
    "import warnings"
   ]
  },
  {
   "cell_type": "code",
   "execution_count": 2,
   "id": "1e07c1a3",
   "metadata": {},
   "outputs": [],
   "source": [
    "warnings.simplefilter(\"ignore\")\n",
    "# Loading the dataset\n",
    "data = pd.read_csv(\"odia.csv\")\n",
    "# value count for each language\n",
    "data[\"label\"].value_counts()\n",
    "# separating the independent and dependant features\n",
    "X = data[\"headings\"]\n",
    "y = data[\"label\"]"
   ]
  },
  {
   "cell_type": "code",
   "execution_count": 3,
   "id": "8ba28464",
   "metadata": {},
   "outputs": [
    {
     "data": {
      "text/html": [
       "<div>\n",
       "<style scoped>\n",
       "    .dataframe tbody tr th:only-of-type {\n",
       "        vertical-align: middle;\n",
       "    }\n",
       "\n",
       "    .dataframe tbody tr th {\n",
       "        vertical-align: top;\n",
       "    }\n",
       "\n",
       "    .dataframe thead th {\n",
       "        text-align: right;\n",
       "    }\n",
       "</style>\n",
       "<table border=\"1\" class=\"dataframe\">\n",
       "  <thead>\n",
       "    <tr style=\"text-align: right;\">\n",
       "      <th></th>\n",
       "      <th>headings</th>\n",
       "      <th>label</th>\n",
       "    </tr>\n",
       "  </thead>\n",
       "  <tbody>\n",
       "    <tr>\n",
       "      <th>0</th>\n",
       "      <td>ଆଇସିସି ବିଶ୍ବକପରେ ସେ ଅଂଶ ଗ୍ରହଣ କରିଥିବାରୁ ସେ ନିଜ...</td>\n",
       "      <td>sports</td>\n",
       "    </tr>\n",
       "    <tr>\n",
       "      <th>1</th>\n",
       "      <td>ଅବସର ପାଇଁ ଚିନ୍ତା ନାହିଁ: ମାତ୍ର ୩୩% ଲୋକ କରୁଛନ୍ତ...</td>\n",
       "      <td>business</td>\n",
       "    </tr>\n",
       "    <tr>\n",
       "      <th>2</th>\n",
       "      <td>‘ପଦ୍ମାବତ୍‌’ ରିଲିଜ୍‌ ଉପରେ କଟକଣା ଜାରି କଲା ହରିଆଣା…</td>\n",
       "      <td>entertainment</td>\n",
       "    </tr>\n",
       "    <tr>\n",
       "      <th>3</th>\n",
       "      <td>ହାମିଲଟନ୍‌ ଟେଷ୍ଟରେ େଓ୍ଵଷ୍ଟଇଣ୍ଡିଜ୍‌ ୨୪୦ ରନ୍‌ରେ ...</td>\n",
       "      <td>sports</td>\n",
       "    </tr>\n",
       "    <tr>\n",
       "      <th>4</th>\n",
       "      <td>ଏହି ବଲିଉଡ୍‌ ଅଭିନେତ୍ରୀଙ୍କ ନାଁରେ ରଖାଗଲା ଗଣ୍ଡାର ...</td>\n",
       "      <td>entertainment</td>\n",
       "    </tr>\n",
       "    <tr>\n",
       "      <th>5</th>\n",
       "      <td>ଗିଲ୍‌କ୍ରିଷ୍ଟ, ବାଉଚର ଓ ସାଙ୍ଗାକାରାଙ୍କ ପରେ ଚତୁର୍...</td>\n",
       "      <td>sports</td>\n",
       "    </tr>\n",
       "    <tr>\n",
       "      <th>6</th>\n",
       "      <td>କିଟ୍‌ରେ ଜାତୀୟ ଦଳଗତ ଚେସ୍‌ ଆରମ୍ଭ</td>\n",
       "      <td>sports</td>\n",
       "    </tr>\n",
       "    <tr>\n",
       "      <th>7</th>\n",
       "      <td>ଦକ୍ଷିଣ କୋରିଆକୁ ଶକ୍ତ ଧକ୍କା:ଜର୍ମାନି ମ୍ୟାଚ୍‌ରୁ ଅ...</td>\n",
       "      <td>sports</td>\n",
       "    </tr>\n",
       "    <tr>\n",
       "      <th>8</th>\n",
       "      <td>ମୀନା କୁମାରୀ ହେବେନି ବିଦ୍ୟା ବାଲନ୍‌</td>\n",
       "      <td>entertainment</td>\n",
       "    </tr>\n",
       "    <tr>\n",
       "      <th>9</th>\n",
       "      <td>ବୁମ୍‌ରା ମୋତେ ଭୁଲ୍ ପ୍ରମାଣିତ କରିଛନ୍ତି: କପିଳ ଦେବ</td>\n",
       "      <td>sports</td>\n",
       "    </tr>\n",
       "  </tbody>\n",
       "</table>\n",
       "</div>"
      ],
      "text/plain": [
       "                                            headings          label\n",
       "0  ଆଇସିସି ବିଶ୍ବକପରେ ସେ ଅଂଶ ଗ୍ରହଣ କରିଥିବାରୁ ସେ ନିଜ...         sports\n",
       "1   ଅବସର ପାଇଁ ଚିନ୍ତା ନାହିଁ: ମାତ୍ର ୩୩% ଲୋକ କରୁଛନ୍ତ...       business\n",
       "2   ‘ପଦ୍ମାବତ୍‌’ ରିଲିଜ୍‌ ଉପରେ କଟକଣା ଜାରି କଲା ହରିଆଣା…   entertainment\n",
       "3   ହାମିଲଟନ୍‌ ଟେଷ୍ଟରେ େଓ୍ଵଷ୍ଟଇଣ୍ଡିଜ୍‌ ୨୪୦ ରନ୍‌ରେ ...         sports\n",
       "4   ଏହି ବଲିଉଡ୍‌ ଅଭିନେତ୍ରୀଙ୍କ ନାଁରେ ରଖାଗଲା ଗଣ୍ଡାର ...  entertainment\n",
       "5   ଗିଲ୍‌କ୍ରିଷ୍ଟ, ବାଉଚର ଓ ସାଙ୍ଗାକାରାଙ୍କ ପରେ ଚତୁର୍...         sports\n",
       "6                    କିଟ୍‌ରେ ଜାତୀୟ ଦଳଗତ ଚେସ୍‌ ଆରମ୍ଭ          sports\n",
       "7   ଦକ୍ଷିଣ କୋରିଆକୁ ଶକ୍ତ ଧକ୍କା:ଜର୍ମାନି ମ୍ୟାଚ୍‌ରୁ ଅ...         sports\n",
       "8                  ମୀନା କୁମାରୀ ହେବେନି ବିଦ୍ୟା ବାଲନ୍‌   entertainment\n",
       "9    ବୁମ୍‌ରା ମୋତେ ଭୁଲ୍ ପ୍ରମାଣିତ କରିଛନ୍ତି: କପିଳ ଦେବ          sports"
      ]
     },
     "execution_count": 3,
     "metadata": {},
     "output_type": "execute_result"
    }
   ],
   "source": [
    "data.head(10)"
   ]
  },
  {
   "cell_type": "code",
   "execution_count": 4,
   "id": "02231dd8",
   "metadata": {},
   "outputs": [
    {
     "data": {
      "text/plain": [
       "sports           8651\n",
       "business         5779\n",
       "entertainment    4572\n",
       "Name: label, dtype: int64"
      ]
     },
     "execution_count": 4,
     "metadata": {},
     "output_type": "execute_result"
    }
   ],
   "source": [
    "data[\"label\"].value_counts()"
   ]
  },
  {
   "cell_type": "code",
   "execution_count": 5,
   "id": "73dda04a",
   "metadata": {},
   "outputs": [
    {
     "data": {
      "text/plain": [
       "<AxesSubplot:xlabel='label', ylabel='count'>"
      ]
     },
     "execution_count": 5,
     "metadata": {},
     "output_type": "execute_result"
    },
    {
     "data": {
      "image/png": "[encoded data removed]",
      "text/plain": [
       "<Figure size 432x288 with 1 Axes>"
      ]
     },
     "metadata": {
      "needs_background": "light"
     },
     "output_type": "display_data"
    }
   ],
   "source": [
    "sns.countplot(data.label)"
   ]
  },
  {
   "cell_type": "code",
   "execution_count": 6,
   "id": "0e23f442",
   "metadata": {},
   "outputs": [],
   "source": [
    "# converting categorical variables to numerical\n",
    "from sklearn.preprocessing import LabelEncoder\n",
    "le = LabelEncoder()\n",
    "y = le.fit_transform(y)\n"
   ]
  },
  {
   "cell_type": "code",
   "execution_count": 7,
   "id": "65dd8365",
   "metadata": {},
   "outputs": [],
   "source": [
    "# creating a list for appending the preprocessed text\n",
    "data_list = []\n",
    "# iterating through all the text\n",
    "for text in X:\n",
    "    # removing the symbols and numbers\n",
    "    text = re.sub(r'[!@#$(),n\"%^*?:;~`0-9]', ' ', text)\n",
    "    text = re.sub(r'[[]]', ' ', text)\n",
    "    # converting the text to lower case\n",
    "    #text = text.lower()\n",
    "    # appending to data_list\n",
    "    data_list.append(text)"
   ]
  },
  {
   "cell_type": "code",
   "execution_count": null,
   "id": "f66de831",
   "metadata": {},
   "outputs": [],
   "source": []
  },
  {
   "cell_type": "code",
   "execution_count": 8,
   "id": "7fda1be1",
   "metadata": {},
   "outputs": [
    {
     "data": {
      "text/plain": [
       "(19002, 3978)"
      ]
     },
     "execution_count": 8,
     "metadata": {},
     "output_type": "execute_result"
    }
   ],
   "source": [
    "# creating bag of words using countvectorizer\n",
    "from sklearn.feature_extraction.text import CountVectorizer\n",
    "cv = CountVectorizer()\n",
    "X = cv.fit_transform(data_list).toarray()\n",
    "X.shape # (10337, 39419)"
   ]
  },
  {
   "cell_type": "code",
   "execution_count": null,
   "id": "ef3eed58",
   "metadata": {},
   "outputs": [],
   "source": []
  },
  {
   "cell_type": "code",
   "execution_count": 9,
   "id": "1ec01ae0",
   "metadata": {},
   "outputs": [],
   "source": [
    "#train test splitting\n",
    "from sklearn.model_selection import train_test_split\n",
    "x_train, x_test, y_train, y_test = train_test_split(X, y, test_size = 0.20)"
   ]
  },
  {
   "cell_type": "code",
   "execution_count": 10,
   "id": "d7084c4e",
   "metadata": {},
   "outputs": [
    {
     "data": {
      "text/plain": [
       "MultinomialNB()"
      ]
     },
     "execution_count": 10,
     "metadata": {},
     "output_type": "execute_result"
    }
   ],
   "source": [
    "# model creation and prediction\n",
    "from sklearn.naive_bayes import MultinomialNB\n",
    "model = MultinomialNB()\n",
    "model.fit(x_train, y_train)"
   ]
  },
  {
   "cell_type": "code",
   "execution_count": 11,
   "id": "1a06195c",
   "metadata": {},
   "outputs": [],
   "source": [
    "#from sklearn.naive_bayes import BernoulliNB\n",
    "#model = BernoulliNB()\n",
    "#model.fit(x_train, y_train)"
   ]
  },
  {
   "cell_type": "code",
   "execution_count": 12,
   "id": "721fbd5f",
   "metadata": {},
   "outputs": [],
   "source": [
    "# prediction \n",
    "y_pred = model.predict(x_test)"
   ]
  },
  {
   "cell_type": "code",
   "execution_count": 13,
   "id": "90ee06bb",
   "metadata": {},
   "outputs": [
    {
     "name": "stdout",
     "output_type": "stream",
     "text": [
      "model Accuracy is: 0.8316232570376216\n"
     ]
    }
   ],
   "source": [
    "# model evaluation\n",
    "from sklearn.metrics import accuracy_score, confusion_matrix\n",
    "ac = accuracy_score(y_test, y_pred)\n",
    "cm = confusion_matrix(y_test, y_pred)\n",
    "print('model Accuracy is:',ac)"
   ]
  },
  {
   "cell_type": "code",
   "execution_count": 14,
   "id": "58b20b9a",
   "metadata": {},
   "outputs": [
    {
     "data": {
      "text/plain": [
       "array([[ 906,   76,  144],\n",
       "       [  78,  749,  107],\n",
       "       [ 133,  102, 1506]], dtype=int64)"
      ]
     },
     "execution_count": 14,
     "metadata": {},
     "output_type": "execute_result"
    }
   ],
   "source": [
    "# Confusion Matrix\n",
    "cm"
   ]
  },
  {
   "cell_type": "code",
   "execution_count": 15,
   "id": "111bc02a",
   "metadata": {},
   "outputs": [
    {
     "data": {
      "image/png": "[encoded data removed]",
      "text/plain": [
       "<Figure size 504x360 with 2 Axes>"
      ]
     },
     "metadata": {
      "needs_background": "light"
     },
     "output_type": "display_data"
    }
   ],
   "source": [
    "# visualising the confusion matrix\n",
    "plt.figure(figsize=(7,5))\n",
    "sns.heatmap(cm, annot = True)\n",
    "plt.show()"
   ]
  },
  {
   "cell_type": "code",
   "execution_count": 16,
   "id": "1e36fde7",
   "metadata": {},
   "outputs": [
    {
     "name": "stdout",
     "output_type": "stream",
     "text": [
      "Number of mislabeled points out of a total 3801 points : 640\n"
     ]
    }
   ],
   "source": [
    " print(\"Number of mislabeled points out of a total %d points : %d\"\n",
    "...       % (x_test.shape[0], (y_test != y_pred).sum()))"
   ]
  },
  {
   "cell_type": "code",
   "execution_count": 17,
   "id": "5b0671fd",
   "metadata": {},
   "outputs": [],
   "source": [
    "# function for predicting \n",
    "def head_pred(text):\n",
    "    x = cv.transform([text]).toarray()\n",
    "    head = model.predict(x)\n",
    "    head = le.inverse_transform(head)\n",
    "    print(\"The news headline\",text,\"is a\",head[0],\"News\")"
   ]
  },
  {
   "cell_type": "code",
   "execution_count": 18,
   "id": "e745453e",
   "metadata": {},
   "outputs": [
    {
     "name": "stdout",
     "output_type": "stream",
     "text": [
      "The news headline  ଭାରତୀୟ ବଜାରରେ ଡୁଆଲ୍‌ କ୍ୟାମେରା is a business News\n"
     ]
    }
   ],
   "source": [
    "head_pred(' ଭାରତୀୟ ବଜାରରେ ଡୁଆଲ୍‌ କ୍ୟାମେରା')"
   ]
  },
  {
   "cell_type": "code",
   "execution_count": 19,
   "id": "8058d3bc",
   "metadata": {},
   "outputs": [
    {
     "name": "stdout",
     "output_type": "stream",
     "text": [
      "The news headline ଚେସ୍‌ ଅଲିମ୍ପିଆଡ୍‌ରେ ଓଡ଼ିଶୀର ଝଲକ: ପ୍ରଧାନମନ୍ତ୍ରୀ ମୋଦୀ କଲେ ଉଦ୍‌ଘାଟନତ୍ରୀ is a sports News\n"
     ]
    }
   ],
   "source": [
    "head_pred(\"ଚେସ୍‌ ଅଲିମ୍ପିଆଡ୍‌ରେ ଓଡ଼ିଶୀର ଝଲକ: ପ୍ରଧାନମନ୍ତ୍ରୀ ମୋଦୀ କଲେ ଉଦ୍‌ଘାଟନତ୍ରୀ\")"
   ]
  },
  {
   "cell_type": "code",
   "execution_count": 20,
   "id": "ae79896f",
   "metadata": {},
   "outputs": [
    {
     "name": "stdout",
     "output_type": "stream",
     "text": [
      "The news headline ଟି-ସାର୍ଟରେ ସୁଶାନ୍ତ ସିଂହଙ୍କ ଫଟୋ ଦେଖି ଫ୍ଲିପ୍‌କାର୍ଟ ଓ ଆମାଜନ୍ ଉପରେ ବର୍ଷିଲେ ପ୍ରଶଂସକ is a entertainment News\n"
     ]
    }
   ],
   "source": [
    "head_pred(\"ଟି-ସାର୍ଟରେ ସୁଶାନ୍ତ ସିଂହଙ୍କ ଫଟୋ ଦେଖି ଫ୍ଲିପ୍‌କାର୍ଟ ଓ ଆମାଜନ୍ ଉପରେ ବର୍ଷିଲେ ପ୍ରଶଂସକ\")"
   ]
  },
  {
   "cell_type": "code",
   "execution_count": 21,
   "id": "54535323",
   "metadata": {},
   "outputs": [],
   "source": [
    "# function for predicting \n",
    "def news_pred(text):\n",
    "    x = cv.transform([text]).toarray()\n",
    "    head = model.predict(x)\n",
    "    head = le.inverse_transform(head)\n",
    "    print(\"The news is a\",head[0],\"News\")"
   ]
  },
  {
   "cell_type": "code",
   "execution_count": 22,
   "id": "9ea2d725",
   "metadata": {},
   "outputs": [
    {
     "name": "stdout",
     "output_type": "stream",
     "text": [
      "The news is a sports News\n"
     ]
    }
   ],
   "source": [
    "news_pred(\"ଆଉ ମାତ୍ର ଗୋଟିଏ ଦିନ ପରେ ଆରମ୍ଭ ହେବାକୁ ଥିବା ବର୍ମିଂହାମ ରାଜ୍ୟଗୋଷ୍ଠୀ କ୍ରୀଡ଼ା ପୂର୍ବରୁ ଭାରତକୁ ବଡ ଝଟ୍‌କା ଲାଗିିଛି। ଆହତ କାରଣରୁ ରାଜ୍ୟଗୋଷ୍ଠୀ କ୍ରୀଡ଼ାରୁ ବାଦ୍‌ ପଡିଛନ୍ତି ସୁନା ପୁଅ ନୀରଜ ଚୋପ୍ରା। ଅଲିମ୍ପିକ୍‌ସରେ ସ୍ବର୍ଣ୍ଣ ଓ ବିଶ୍ବ ଦୌଡ଼କୁଦ ଚମ୍ପିଆନସିପରେ ରୌପ୍ୟ ପଦକ ବିଜୟୀ ହୋଇଥିବା ଭାରତୀୟ ଦୌଡ଼କୁଦ ଜଗତର ମହାଯୋଦ୍ଧା\")"
   ]
  },
  {
   "cell_type": "code",
   "execution_count": 23,
   "id": "9730e743",
   "metadata": {},
   "outputs": [
    {
     "name": "stdout",
     "output_type": "stream",
     "text": [
      "The news is a entertainment News\n"
     ]
    }
   ],
   "source": [
    "news_pred(\"ତେବେ ଏଠି ପ୍ରଶ୍ନ ଉଠୁଛି ଅଭିନେତାଙ୍କ ସହିତ ଅଭିନେତ୍ରୀ ଜଣକ କେଉଁଠିକୁ ଯାଉଥିଲେ ? ଅଭିନେତା ଜଣକ ଡ୍ରାଇଭିଂ କରୁଥିବା ବେଳେ ଅଭିନେତ୍ରୀ ଜଣକ ଗାଡ଼ି ପଛରେ ନବସି ଆଗରେ ବସିଥିଲେ କାହିଁକି ? ପତ୍ନୀଙ୍କ ଅଭିଯୋଗ ଅନୁସାରେ ଅଭିନେତା ସ୍ବାମୀ କିଛି ଦିନ ହେବ ଘରକୁ ଯାଉନାହାନ୍ତି । ଯାହାର ସତ୍ୟାସତ୍ୟ ଜାଣିବାକୁ ଏପରି କରିଥିଲେ ଅଭିନେତାଙ୍କ ପତ୍ନୀ । ବାଟରେ ସ୍ୱାମୀଙ୍କ ସହ ଅଭିନେତ୍ରୀଙ୍କୁ ଦେଖି ନିଜକୁ ନିୟନ୍ତ୍ରଣରେ ରଖିପାରିନଥିଲେ । ଆଉ ରାସ୍ତାଉପରେ ଚାଲିଥିଲା ଷ୍ଟାର ଦମ୍ପତି ଓ ବାନ୍ଧବୀଙ୍କ ହାଇଡ୍ରାମା । ସୋସିଆଲ ମିଡିଆରେ ଭାଇରାଲ ହେଉଥିବା ଏହି ଭିଡିଓ ଭୁବନେଶ୍ୱରର ସତ୍ୟନଗର ଅଞ୍ଚଳରେ ହୋଇଥିବା ଜଣାପଡ଼ିଛି ।\")"
   ]
  },
  {
   "cell_type": "code",
   "execution_count": 24,
   "id": "d4cda6a5",
   "metadata": {},
   "outputs": [
    {
     "name": "stdout",
     "output_type": "stream",
     "text": [
      "The news is a business News\n"
     ]
    }
   ],
   "source": [
    "news_pred(\"ଭାରତୀୟ ଟେଲିକମ୍ ବଜାରରେ ବିଏସଏନଏଲର ଉପସ୍ଥିତି ଏକ ବଜାର ସନ୍ତୁଳନକାରୀ ଭାବେ କାର୍ଯ୍ୟ କରିଥାଏ । ଗ୍ରାମାଞ୍ଚଳରେ ଟେଲିକମ୍ ସେବାର ସମ୍ପ୍ରସାରଣ, ସ୍ବଦେଶୀ ଜ୍ଞାନକୌଶଳର ବିକାଶ ଏବଂ ବିପର୍ଯ୍ୟୟ ସହାୟତା କ୍ଷେତ୍ରରେ ବିଏସଏନଏଲର ଏକ ଗୁରୁତ୍ବପୂର୍ଣ୍ଣ ଭୂମିକା ରହିଛି ।\")"
   ]
  },
  {
   "cell_type": "code",
   "execution_count": 25,
   "id": "a81fa533",
   "metadata": {},
   "outputs": [
    {
     "name": "stdout",
     "output_type": "stream",
     "text": [
      "The news is a entertainment News\n"
     ]
    }
   ],
   "source": [
    "news_pred(\"ଜୀ ସାର୍ଥକରେ ଖୁବଶୀଘ୍ର ଆରମ୍ଭ ହେବାକୁ ଯାଉଛି ଓଡିଶାର ସବୁଠାରୁ ବଡ ସିଂଗିଙ୍ଗ ରିୟାଲିଟି ସୋ ‘ସା ରେ ଗା ମା ପା – ସ୍ୱରର ମହାମଞ୍ଚ’। ଯେଉଁ ସୋ’ରୁ ସଫଳତା ପାଇ ଆଜି ଓଡିଆ ସଂଗୀତ ଦୁନିଆରେ ଅନେକ ରାଜ୍ କରୁଛନ୍ତି, ସେହି ମେଗା ସୋ’ ପୁଣିଥରେ ଦର୍ଶକଙ୍କ ପାଖକୁ ଫେରୁଛି। ସ୍ୱର ଓ ସଂଗୀତକୁ ଭଲ ପାଉଥିବା ଏବଂ ଏଥିରେ କ୍ୟାରିୟର ଗଢ଼ିବାକୁ ଚାହୁଁଥିବା କଳାକାରମାନଙ୍କ ପାଇଁ ଏହି ସୋ ଏକ ବଡ ପ୍ଲାଟ୍ ଫର୍ମ।\")"
   ]
  },
  {
   "cell_type": "code",
   "execution_count": 26,
   "id": "ed61cebc",
   "metadata": {},
   "outputs": [
    {
     "name": "stdout",
     "output_type": "stream",
     "text": [
      "The news is a business News\n"
     ]
    }
   ],
   "source": [
    "news_pred(\"ଶେଷ ହେଲା ୫ଜି ସ୍ପେକ୍ଟ୍ରମ୍ ନିଲାମ, ସରକାର ପାଇବେ ୧,୫୦,୧୭୩ କୋଟି\")"
   ]
  },
  {
   "cell_type": "code",
   "execution_count": null,
   "id": "2c0373a3",
   "metadata": {},
   "outputs": [],
   "source": []
  },
  {
   "cell_type": "code",
   "execution_count": null,
   "id": "004bc443",
   "metadata": {},
   "outputs": [],
   "source": []
  },
  {
   "cell_type": "code",
   "execution_count": null,
   "id": "d6f696aa",
   "metadata": {},
   "outputs": [],
   "source": []
  },
  {
   "cell_type": "code",
   "execution_count": null,
   "id": "3f09de9f",
   "metadata": {},
   "outputs": [],
   "source": []
  }
 ],
 "metadata": {
  "kernelspec": {
   "display_name": "Python 3 (ipykernel)",
   "language": "python",
   "name": "python3"
  },
  "language_info": {
   "codemirror_mode": {
    "name": "ipython",
    "version": 3
   },
   "file_extension": ".py",
   "mimetype": "text/x-python",
   "name": "python",
   "nbconvert_exporter": "python",
   "pygments_lexer": "ipython3",
   "version": "3.9.7"
  }
 },
 "nbformat": 4,
 "nbformat_minor": 5
}
